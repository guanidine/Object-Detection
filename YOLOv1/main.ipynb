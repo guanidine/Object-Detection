{
 "nbformat": 4,
 "nbformat_minor": 0,
 "metadata": {
  "colab": {
   "provenance": [],
   "machine_shape": "hm",
   "authorship_tag": "ABX9TyPoJDWZljTCkfsc2OInDcZi",
   "include_colab_link": true
  },
  "kernelspec": {
   "name": "python3",
   "display_name": "Python 3"
  },
  "language_info": {
   "name": "python"
  },
  "accelerator": "GPU",
  "gpuClass": "standard"
 },
 "cells": [
  {
   "cell_type": "markdown",
   "metadata": {
    "id": "view-in-github",
    "colab_type": "text"
   },
   "source": [
    "<a href=\"https://colab.research.google.com/github/guanidine/Object-Detection/blob/main/YOLOv1/main.ipynb\" target=\"_parent\"><img src=\"https://colab.research.google.com/assets/colab-badge.svg\" alt=\"Open In Colab\"/></a>"
   ]
  },
  {
   "cell_type": "markdown",
   "source": [
    "## Preparation"
   ],
   "metadata": {
    "id": "PKVAqupYg5KA"
   }
  },
  {
   "cell_type": "code",
   "execution_count": 1,
   "metadata": {
    "colab": {
     "base_uri": "https://localhost:8080/"
    },
    "id": "A8rqx3M1fhrj",
    "outputId": "c1b090ee-a92a-42be-c696-93d5dcd72ee5"
   },
   "outputs": [
    {
     "output_type": "stream",
     "name": "stdout",
     "text": [
      "Cloning into 'Object-Detection'...\n",
      "remote: Enumerating objects: 47, done.\u001B[K\n",
      "remote: Counting objects: 100% (47/47), done.\u001B[K\n",
      "remote: Compressing objects: 100% (37/37), done.\u001B[K\n",
      "remote: Total 47 (delta 13), reused 43 (delta 9), pack-reused 0\u001B[K\n",
      "Unpacking objects: 100% (47/47), 107.02 KiB | 3.82 MiB/s, done.\n"
     ]
    }
   ],
   "source": [
    "!git clone https://github.com/guanidine/Object-Detection.git"
   ]
  },
  {
   "cell_type": "code",
   "source": [
    "%cd Object-Detection/YOLOv1"
   ],
   "metadata": {
    "colab": {
     "base_uri": "https://localhost:8080/"
    },
    "id": "O92UG0-GgXdp",
    "outputId": "433cca71-c056-4f00-ba0d-010fe7a64b99"
   },
   "execution_count": 2,
   "outputs": [
    {
     "output_type": "stream",
     "name": "stdout",
     "text": [
      "/content/Object-Detection/YOLOv1\n"
     ]
    }
   ]
  },
  {
   "cell_type": "code",
   "source": [
    "# Upload data/map, *.pth.tar to Drive first\n",
    "from google.colab import drive\n",
    "drive.mount('/content/drive',force_remount = True)"
   ],
   "metadata": {
    "colab": {
     "base_uri": "https://localhost:8080/"
    },
    "id": "-QuBuu4Rgg4p",
    "outputId": "93ec817d-59c0-460f-f74c-0d8123b85080"
   },
   "execution_count": 3,
   "outputs": [
    {
     "output_type": "stream",
     "name": "stdout",
     "text": [
      "Mounted at /content/drive\n"
     ]
    }
   ]
  },
  {
   "cell_type": "code",
   "source": [
    "!unzip -q /content/drive/MyDrive/PASCAL_VOC.zip\n",
    "!mv PASCAL_VOC data"
   ],
   "metadata": {
    "id": "0YHoqw1WgjDJ"
   },
   "execution_count": 4,
   "outputs": []
  },
  {
   "cell_type": "code",
   "source": [
    "!sed -i '10s/64/16/' config.py\n",
    "!sed -i '15s/True/False/' config.py\n",
    "!sed -i '16s/False/True/' config.py\n",
    "!sed -i '243s/)/)\\n    plt.savefig(\"0.jpg\")/' utils.py\n",
    "!sed -i '45s/train\\.csv/100examples\\.csv/' train.py"
   ],
   "metadata": {
    "id": "f-pzrYSjRqO-"
   },
   "execution_count": 5,
   "outputs": []
  },
  {
   "cell_type": "markdown",
   "source": [
    "## Train"
   ],
   "metadata": {
    "id": "EJqXI0i4g7Xr"
   }
  },
  {
   "cell_type": "code",
   "source": [
    "!python train.py"
   ],
   "metadata": {
    "colab": {
     "base_uri": "https://localhost:8080/"
    },
    "id": "IUNWtxnog8yV",
    "outputId": "1b25b962-0b48-4fa2-c6a0-77f599594e53"
   },
   "execution_count": 6,
   "outputs": [
    {
     "output_type": "stream",
     "name": "stdout",
     "text": [
      "100% 6/6 [00:08<00:00,  1.36s/it]\n",
      "Train mAP: 0.0\n",
      "100% 6/6 [00:05<00:00,  1.20it/s, loss=473]\n",
      "Mean loss was 737.5075836181641\n",
      "100% 6/6 [00:01<00:00,  3.52it/s]\n",
      "Train mAP: 0.0\n",
      "100% 6/6 [00:04<00:00,  1.46it/s, loss=336]\n",
      "Mean loss was 315.4398829142253\n",
      "100% 6/6 [00:01<00:00,  3.49it/s]\n",
      "Train mAP: 0.0\n",
      "100% 6/6 [00:04<00:00,  1.45it/s, loss=250]\n",
      "Mean loss was 246.5931854248047\n",
      "100% 6/6 [00:01<00:00,  3.46it/s]\n",
      "Train mAP: 0.0\n",
      "100% 6/6 [00:04<00:00,  1.43it/s, loss=175]\n",
      "Mean loss was 204.20362854003906\n",
      "100% 6/6 [00:01<00:00,  3.42it/s]\n",
      "Train mAP: 0.00012499996228143573\n",
      "100% 6/6 [00:04<00:00,  1.43it/s, loss=147]\n",
      "Mean loss was 172.21728642781576\n",
      "100% 6/6 [00:01<00:00,  3.11it/s]\n",
      "Train mAP: 0.0\n",
      "100% 6/6 [00:04<00:00,  1.43it/s, loss=112]\n",
      "Mean loss was 142.7927589416504\n",
      "100% 6/6 [00:01<00:00,  3.32it/s]\n",
      "Train mAP: 0.0017543912399560213\n",
      "100% 6/6 [00:04<00:00,  1.42it/s, loss=126]\n",
      "Mean loss was 123.19368362426758\n",
      "100% 6/6 [00:01<00:00,  3.24it/s]\n",
      "Train mAP: 0.0017696516588330269\n",
      "100% 6/6 [00:04<00:00,  1.41it/s, loss=156]\n",
      "Mean loss was 108.2430903116862\n",
      "100% 6/6 [00:01<00:00,  3.37it/s]\n",
      "Train mAP: 0.003467625007033348\n",
      "100% 6/6 [00:04<00:00,  1.41it/s, loss=156]\n",
      "Mean loss was 105.16327540079753\n",
      "100% 6/6 [00:01<00:00,  3.18it/s]\n",
      "Train mAP: 0.03852690011262894\n",
      "100% 6/6 [00:04<00:00,  1.37it/s, loss=119]\n",
      "Mean loss was 90.81451797485352\n",
      "100% 6/6 [00:01<00:00,  3.34it/s]\n",
      "Train mAP: 0.270142138004303\n",
      "100% 6/6 [00:04<00:00,  1.39it/s, loss=60.4]\n",
      "Mean loss was 79.30477396647136\n",
      "100% 6/6 [00:01<00:00,  3.12it/s]\n",
      "Train mAP: 0.5617149472236633\n",
      "100% 6/6 [00:04<00:00,  1.37it/s, loss=68.6]\n",
      "Mean loss was 70.98832448323567\n",
      "100% 6/6 [00:01<00:00,  3.27it/s]\n",
      "Train mAP: 0.6336179971694946\n",
      "100% 6/6 [00:04<00:00,  1.39it/s, loss=79]\n",
      "Mean loss was 67.8410415649414\n",
      "100% 6/6 [00:02<00:00,  2.85it/s]\n",
      "Train mAP: 0.7577211260795593\n",
      "100% 6/6 [00:04<00:00,  1.35it/s, loss=61.5]\n",
      "Mean loss was 61.31718953450521\n",
      "100% 6/6 [00:01<00:00,  3.27it/s]\n",
      "Train mAP: 0.7195721864700317\n",
      "100% 6/6 [00:04<00:00,  1.38it/s, loss=57.2]\n",
      "Mean loss was 57.216002782185875\n",
      "100% 6/6 [00:02<00:00,  3.00it/s]\n",
      "Train mAP: 0.7759979367256165\n",
      "100% 6/6 [00:04<00:00,  1.35it/s, loss=49.8]\n",
      "Mean loss was 49.3063850402832\n",
      "100% 6/6 [00:01<00:00,  3.34it/s]\n",
      "Train mAP: 0.7965582609176636\n",
      "100% 6/6 [00:04<00:00,  1.38it/s, loss=52.2]\n",
      "Mean loss was 50.92074012756348\n",
      "100% 6/6 [00:01<00:00,  3.13it/s]\n",
      "Train mAP: 0.8357798457145691\n",
      "100% 6/6 [00:04<00:00,  1.38it/s, loss=37.4]\n",
      "Mean loss was 48.77525043487549\n",
      "100% 6/6 [00:01<00:00,  3.32it/s]\n",
      "Train mAP: 0.8286727666854858\n",
      "100% 6/6 [00:04<00:00,  1.37it/s, loss=62.9]\n",
      "Mean loss was 51.61900329589844\n",
      "100% 6/6 [00:01<00:00,  3.20it/s]\n",
      "Train mAP: 0.812667727470398\n",
      "100% 6/6 [00:04<00:00,  1.37it/s, loss=52.7]\n",
      "Mean loss was 51.454685846964516\n",
      "100% 6/6 [00:01<00:00,  3.13it/s]\n",
      "Train mAP: 0.7941016554832458\n",
      "100% 6/6 [00:04<00:00,  1.36it/s, loss=39]\n",
      "Mean loss was 42.86885007222494\n",
      "100% 6/6 [00:01<00:00,  3.13it/s]\n",
      "Train mAP: 0.8286986351013184\n",
      "100% 6/6 [00:04<00:00,  1.33it/s, loss=39]\n",
      "Mean loss was 44.31708081563314\n",
      "100% 6/6 [00:01<00:00,  3.28it/s]\n",
      "Train mAP: 0.7888145446777344\n",
      "100% 6/6 [00:04<00:00,  1.36it/s, loss=82.8]\n",
      "Mean loss was 58.87586466471354\n",
      "100% 6/6 [00:01<00:00,  3.11it/s]\n",
      "Train mAP: 0.8373709917068481\n",
      "100% 6/6 [00:04<00:00,  1.34it/s, loss=63.8]\n",
      "Mean loss was 50.88295237223307\n",
      "100% 6/6 [00:01<00:00,  3.26it/s]\n",
      "Train mAP: 0.7752273678779602\n",
      "100% 6/6 [00:04<00:00,  1.36it/s, loss=67.5]\n",
      "Mean loss was 63.604091008504234\n",
      "100% 6/6 [00:01<00:00,  3.12it/s]\n",
      "Train mAP: 0.7914201617240906\n",
      "100% 6/6 [00:04<00:00,  1.37it/s, loss=58.4]\n",
      "Mean loss was 52.334495544433594\n",
      "100% 6/6 [00:01<00:00,  3.28it/s]\n",
      "Train mAP: 0.8096938133239746\n",
      "100% 6/6 [00:04<00:00,  1.37it/s, loss=60.3]\n",
      "Mean loss was 51.31085205078125\n",
      "100% 6/6 [00:01<00:00,  3.27it/s]\n",
      "Train mAP: 0.8786090612411499\n",
      "100% 6/6 [00:04<00:00,  1.34it/s, loss=60.3]\n",
      "Mean loss was 41.32920106252035\n",
      "100% 6/6 [00:01<00:00,  3.32it/s]\n",
      "Train mAP: 0.9055033922195435\n",
      "=> Saving checkpoint\n"
     ]
    }
   ]
  },
  {
   "cell_type": "markdown",
   "source": [
    "## Test"
   ],
   "metadata": {
    "id": "b-xsr26hWuFo"
   }
  },
  {
   "cell_type": "code",
   "source": [
    "!sed -i '15s/False/True/' config.py\n",
    "!sed -i '17s/False/True/' config.py"
   ],
   "metadata": {
    "id": "6hhVG8Y1TXfq"
   },
   "execution_count": 7,
   "outputs": []
  },
  {
   "cell_type": "code",
   "source": [
    "!python train.py"
   ],
   "metadata": {
    "colab": {
     "base_uri": "https://localhost:8080/"
    },
    "id": "3pQLpgyEWrUj",
    "outputId": "6710d0d9-16a2-4724-ff9f-1c308f4ad80a"
   },
   "execution_count": 8,
   "outputs": [
    {
     "output_type": "stream",
     "name": "stdout",
     "text": [
      "=> Loading checkpoint\n",
      "Figure(640x480)\n",
      "Figure(640x480)\n",
      "Figure(640x480)\n",
      "Figure(640x480)\n",
      "Figure(640x480)\n",
      "Figure(640x480)\n",
      "Figure(640x480)\n",
      "Figure(640x480)\n",
      "Figure(640x480)\n",
      "Figure(640x480)\n",
      "Figure(640x480)\n",
      "Figure(640x480)\n",
      "Figure(640x480)\n",
      "Figure(640x480)\n",
      "Figure(640x480)\n",
      "Figure(640x480)\n"
     ]
    }
   ]
  },
  {
   "cell_type": "code",
   "source": [
    "!cp checkpoint.pth.tar /content/drive/MyDrive/checkpoint.pth.tar"
   ],
   "metadata": {
    "id": "ODczbqPy3lYV"
   },
   "execution_count": 9,
   "outputs": []
  }
 ]
}
