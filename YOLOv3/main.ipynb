{
 "nbformat": 4,
 "nbformat_minor": 0,
 "metadata": {
  "colab": {
   "provenance": [],
   "machine_shape": "hm",
   "authorship_tag": "ABX9TyMnTTjwm3kgugK3wQxKPDpd",
   "include_colab_link": true
  },
  "kernelspec": {
   "name": "python3",
   "display_name": "Python 3"
  },
  "language_info": {
   "name": "python"
  },
  "accelerator": "GPU",
  "gpuClass": "premium"
 },
 "cells": [
  {
   "cell_type": "markdown",
   "metadata": {
    "id": "view-in-github",
    "colab_type": "text"
   },
   "source": [
    "<a href=\"https://colab.research.google.com/github/guanidine/Object-Detection/blob/main/YOLOv3/main.ipynb\" target=\"_parent\"><img src=\"https://colab.research.google.com/assets/colab-badge.svg\" alt=\"Open In Colab\"/></a>"
   ]
  },
  {
   "cell_type": "markdown",
   "source": [
    "## Preparation"
   ],
   "metadata": {
    "id": "PKVAqupYg5KA"
   }
  },
  {
   "cell_type": "code",
   "execution_count": 1,
   "metadata": {
    "colab": {
     "base_uri": "https://localhost:8080/"
    },
    "id": "A8rqx3M1fhrj",
    "outputId": "7b467c97-49ee-4f22-e440-08883707dc52"
   },
   "outputs": [
    {
     "output_type": "stream",
     "name": "stdout",
     "text": [
      "fatal: destination path 'Object-Detection' already exists and is not an empty directory.\n"
     ]
    }
   ],
   "source": [
    "!git clone https://github.com/guanidine/Object-Detection.git"
   ]
  },
  {
   "cell_type": "code",
   "source": [
    "%cd Object-Detection/YOLOv3"
   ],
   "metadata": {
    "colab": {
     "base_uri": "https://localhost:8080/"
    },
    "id": "O92UG0-GgXdp",
    "outputId": "3cdacdc2-b662-4259-82b3-754df6481200"
   },
   "execution_count": 2,
   "outputs": [
    {
     "output_type": "stream",
     "name": "stdout",
     "text": [
      "/content/Object-Detection/YOLOv3\n"
     ]
    }
   ]
  },
  {
   "cell_type": "code",
   "source": [
    "# Upload data/map, *.pth.tar to Drive first\n",
    "from google.colab import drive\n",
    "drive.mount('/content/drive',force_remount = True)"
   ],
   "metadata": {
    "colab": {
     "base_uri": "https://localhost:8080/"
    },
    "id": "-QuBuu4Rgg4p",
    "outputId": "bde8acfa-3489-4c5a-dc91-f46748eb3a25"
   },
   "execution_count": 3,
   "outputs": [
    {
     "output_type": "stream",
     "name": "stdout",
     "text": [
      "Mounted at /content/drive\n"
     ]
    }
   ]
  },
  {
   "cell_type": "code",
   "source": [
    "!unzip -q /content/drive/MyDrive/PASCAL_VOC.zip\n",
    "!mv PASCAL_VOC data\n",
    "!cp  /content/drive/MyDrive/checkpoint.pth.tar checkpoint.pth.tar"
   ],
   "metadata": {
    "id": "0YHoqw1WgjDJ"
   },
   "execution_count": 4,
   "outputs": []
  },
  {
   "cell_type": "code",
   "source": [
    "!sed -i '17s/100/1/' config.py"
   ],
   "metadata": {
    "id": "-_zYOI2T3J1X"
   },
   "execution_count": 5,
   "outputs": []
  },
  {
   "cell_type": "markdown",
   "source": [
    "## Train"
   ],
   "metadata": {
    "id": "EJqXI0i4g7Xr"
   }
  },
  {
   "cell_type": "code",
   "source": [
    "!python train.py"
   ],
   "metadata": {
    "colab": {
     "base_uri": "https://localhost:8080/"
    },
    "id": "IUNWtxnog8yV",
    "outputId": "45191ebf-7d71-4189-e109-d0c49167895d"
   },
   "execution_count": 6,
   "outputs": [
    {
     "output_type": "stream",
     "name": "stdout",
     "text": [
      "=> Loading checkpoint\n",
      "100% 259/259 [02:02<00:00,  2.12it/s, loss=1.57]\n",
      "100% 78/78 [00:20<00:00,  3.75it/s]\n",
      "Class accuracy is: 95.824333%\n",
      "No obj accuracy is: 98.772835%\n",
      "Obj accuracy is: 93.995567%\n",
      "100% 78/78 [11:38<00:00,  8.95s/it]\n",
      "MAP: 0.7873333096504211\n"
     ]
    }
   ]
  }
 ]
}
